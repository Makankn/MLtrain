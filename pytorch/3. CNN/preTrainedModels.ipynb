{
 "cells": [
  {
   "cell_type": "code",
   "execution_count": 2,
   "metadata": {},
   "outputs": [],
   "source": [
    "def count_change(money, coins):\n",
    "    counter = 0\n",
    "    success_list = []\n",
    "    for coin in coins:\n",
    "        if coin % money ==0:\n",
    "            success_list.append(coin)\n",
    "            counter +=1\n",
    "            \n",
    "    for coin in success_list:\n",
    "        \n",
    "        reminder = money // coin\n",
    "        \n",
    "\n",
    "        x = [reminder%t ==0 for t in success_list].count(True)\n",
    "        \n",
    "    return counter\n",
    "                \n",
    "            \n",
    "            \n",
    "\n",
    "    "
   ]
  },
  {
   "cell_type": "code",
   "execution_count": 3,
   "metadata": {},
   "outputs": [
    {
     "data": {
      "text/plain": [
       "0"
      ]
     },
     "execution_count": 3,
     "metadata": {},
     "output_type": "execute_result"
    }
   ],
   "source": [
    "count_change(5, [2,3])"
   ]
  },
  {
   "cell_type": "code",
   "execution_count": null,
   "metadata": {},
   "outputs": [],
   "source": []
  }
 ],
 "metadata": {
  "kernelspec": {
   "display_name": "Python 3",
   "language": "python",
   "name": "python3"
  },
  "language_info": {
   "codemirror_mode": {
    "name": "ipython",
    "version": 3
   },
   "file_extension": ".py",
   "mimetype": "text/x-python",
   "name": "python",
   "nbconvert_exporter": "python",
   "pygments_lexer": "ipython3",
   "version": "3.11.1"
  },
  "orig_nbformat": 4
 },
 "nbformat": 4,
 "nbformat_minor": 2
}
