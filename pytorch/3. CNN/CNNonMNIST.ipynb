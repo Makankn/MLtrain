{
 "cells": [
  {
   "cell_type": "code",
   "execution_count": 1,
   "metadata": {},
   "outputs": [
    {
     "name": "stderr",
     "output_type": "stream",
     "text": [
      "c:\\Users\\makan\\anaconda3\\envs\\pytorchenv\\lib\\site-packages\\sklearn\\utils\\validation.py:37: DeprecationWarning: distutils Version classes are deprecated. Use packaging.version instead.\n",
      "  LARGE_SPARSE_SUPPORTED = LooseVersion(scipy_version) >= '0.14.0'\n"
     ]
    }
   ],
   "source": [
    "import torch\n",
    "import torch.nn as nn\n",
    "import pandas as pd\n",
    "import numpy as np\n",
    "import torch.nn.functional as F\n",
    "from torchvision import datasets, transforms\n",
    "from torchvision.utils import make_grid\n",
    "from torch.utils.data import DataLoader\n",
    "\n",
    "from sklearn.metrics import confusion_matrix\n",
    "import matplotlib.pyplot as plt\n"
   ]
  },
  {
   "cell_type": "code",
   "execution_count": 2,
   "metadata": {},
   "outputs": [],
   "source": [
    "transform = transforms.ToTensor()"
   ]
  },
  {
   "cell_type": "code",
   "execution_count": 3,
   "metadata": {},
   "outputs": [],
   "source": [
    "train_data = datasets.MNIST(root=r'C:\\terme 8\\Udemy.PyTorch.for.Deep.Learning.with.Python.Bootcamp_p30download.com\\13 . trains\\pytorch\\3. CNN\\data', train = True, transform= transform,download=True)"
   ]
  },
  {
   "cell_type": "code",
   "execution_count": 4,
   "metadata": {},
   "outputs": [],
   "source": [
    "test_data = datasets.MNIST(root=r'C:\\terme 8\\Udemy.PyTorch.for.Deep.Learning.with.Python.Bootcamp_p30download.com\\13 . trains\\pytorch\\3. CNN\\data', train = False, transform= transform, download=True)\n"
   ]
  },
  {
   "cell_type": "code",
   "execution_count": 5,
   "metadata": {},
   "outputs": [
    {
     "data": {
      "text/plain": [
       "Dataset MNIST\n",
       "    Number of datapoints: 60000\n",
       "    Split: train\n",
       "    Root Location: C:\\terme 8\\Udemy.PyTorch.for.Deep.Learning.with.Python.Bootcamp_p30download.com\\13 . trains\\pytorch\\3. CNN\\data\n",
       "    Transforms (if any): ToTensor()\n",
       "    Target Transforms (if any): None"
      ]
     },
     "execution_count": 5,
     "metadata": {},
     "output_type": "execute_result"
    }
   ],
   "source": [
    "train_data"
   ]
  },
  {
   "cell_type": "code",
   "execution_count": 6,
   "metadata": {},
   "outputs": [
    {
     "data": {
      "text/plain": [
       "Dataset MNIST\n",
       "    Number of datapoints: 10000\n",
       "    Split: test\n",
       "    Root Location: C:\\terme 8\\Udemy.PyTorch.for.Deep.Learning.with.Python.Bootcamp_p30download.com\\13 . trains\\pytorch\\3. CNN\\data\n",
       "    Transforms (if any): ToTensor()\n",
       "    Target Transforms (if any): None"
      ]
     },
     "execution_count": 6,
     "metadata": {},
     "output_type": "execute_result"
    }
   ],
   "source": [
    "test_data"
   ]
  },
  {
   "cell_type": "code",
   "execution_count": 7,
   "metadata": {},
   "outputs": [],
   "source": [
    "train_loader = DataLoader(train_data, batch_size=10, shuffle=True)\n",
    "test_loader = DataLoader(test_data, batch_size=10, shuffle=False)\n"
   ]
  },
  {
   "cell_type": "code",
   "execution_count": 8,
   "metadata": {},
   "outputs": [],
   "source": [
    "conv1 = nn.Conv2d(1, 6, 3, 1)\n",
    "conv2 = nn.Conv2d(6, 16, 3, 1)"
   ]
  },
  {
   "cell_type": "code",
   "execution_count": 9,
   "metadata": {},
   "outputs": [],
   "source": [
    "for i, (X_train, y_train) in enumerate(train_data):\n",
    "    break"
   ]
  },
  {
   "cell_type": "code",
   "execution_count": 12,
   "metadata": {},
   "outputs": [
    {
     "data": {
      "text/plain": [
       "torch.Size([1, 28, 28])"
      ]
     },
     "execution_count": 12,
     "metadata": {},
     "output_type": "execute_result"
    }
   ],
   "source": [
    "X_train.shape"
   ]
  },
  {
   "cell_type": "code",
   "execution_count": 10,
   "metadata": {},
   "outputs": [],
   "source": [
    "x = X_train.view(1, 1 , 28, 28)"
   ]
  },
  {
   "cell_type": "code",
   "execution_count": 298,
   "metadata": {},
   "outputs": [
    {
     "data": {
      "text/plain": [
       "torch.Size([1, 1, 28, 28])"
      ]
     },
     "execution_count": 298,
     "metadata": {},
     "output_type": "execute_result"
    }
   ],
   "source": [
    "x.shape"
   ]
  },
  {
   "cell_type": "code",
   "execution_count": 299,
   "metadata": {},
   "outputs": [],
   "source": [
    "x=F.relu(conv1(x))\n"
   ]
  },
  {
   "cell_type": "code",
   "execution_count": 300,
   "metadata": {},
   "outputs": [
    {
     "data": {
      "text/plain": [
       "torch.Size([1, 6, 26, 26])"
      ]
     },
     "execution_count": 300,
     "metadata": {},
     "output_type": "execute_result"
    }
   ],
   "source": [
    "x.shape"
   ]
  },
  {
   "cell_type": "code",
   "execution_count": 301,
   "metadata": {},
   "outputs": [],
   "source": [
    "x = F.max_pool2d(x, 2, 2)"
   ]
  },
  {
   "cell_type": "code",
   "execution_count": 302,
   "metadata": {},
   "outputs": [
    {
     "data": {
      "text/plain": [
       "torch.Size([1, 6, 13, 13])"
      ]
     },
     "execution_count": 302,
     "metadata": {},
     "output_type": "execute_result"
    }
   ],
   "source": [
    "x.shape"
   ]
  },
  {
   "cell_type": "code",
   "execution_count": 303,
   "metadata": {},
   "outputs": [],
   "source": [
    "x = F.relu(conv2(x))"
   ]
  },
  {
   "cell_type": "code",
   "execution_count": 304,
   "metadata": {},
   "outputs": [
    {
     "data": {
      "text/plain": [
       "torch.Size([1, 16, 11, 11])"
      ]
     },
     "execution_count": 304,
     "metadata": {},
     "output_type": "execute_result"
    }
   ],
   "source": [
    "x.shape"
   ]
  },
  {
   "cell_type": "code",
   "execution_count": 305,
   "metadata": {},
   "outputs": [],
   "source": [
    "x = F.max_pool2d(x, 2, 2)"
   ]
  },
  {
   "cell_type": "code",
   "execution_count": 306,
   "metadata": {},
   "outputs": [
    {
     "data": {
      "text/plain": [
       "torch.Size([1, 16, 5, 5])"
      ]
     },
     "execution_count": 306,
     "metadata": {},
     "output_type": "execute_result"
    }
   ],
   "source": [
    "x.shape"
   ]
  },
  {
   "cell_type": "code",
   "execution_count": 307,
   "metadata": {},
   "outputs": [
    {
     "data": {
      "text/plain": [
       "tensor([[4.0131e-02, 4.5844e-02, 1.2915e-01, 2.3647e-01, 1.5534e-01, 1.2100e-02,\n",
       "         3.2956e-01, 5.5344e-01, 5.0835e-01, 4.2728e-01, 3.2368e-02, 2.1837e-01,\n",
       "         3.5708e-01, 2.6548e-01, 1.5293e-01, 0.0000e+00, 8.6048e-03, 1.3164e-01,\n",
       "         4.4261e-01, 3.5550e-01, 5.8795e-02, 1.5551e-01, 4.4277e-01, 5.6204e-01,\n",
       "         4.5897e-01, 9.6035e-02, 1.3691e-01, 1.8697e-01, 1.5408e-01, 6.3381e-02,\n",
       "         8.5744e-02, 1.1212e-01, 5.5214e-02, 8.8223e-02, 1.2316e-01, 8.4138e-02,\n",
       "         9.6705e-02, 4.5237e-02, 6.8764e-02, 9.8113e-02, 8.2945e-02, 1.2800e-01,\n",
       "         1.4320e-01, 1.3029e-01, 9.5859e-02, 1.1944e-01, 1.4969e-01, 1.0269e-01,\n",
       "         1.2300e-01, 6.1911e-02, 0.0000e+00, 0.0000e+00, 0.0000e+00, 0.0000e+00,\n",
       "         0.0000e+00, 0.0000e+00, 0.0000e+00, 0.0000e+00, 0.0000e+00, 0.0000e+00,\n",
       "         0.0000e+00, 0.0000e+00, 0.0000e+00, 0.0000e+00, 0.0000e+00, 0.0000e+00,\n",
       "         0.0000e+00, 0.0000e+00, 0.0000e+00, 0.0000e+00, 0.0000e+00, 0.0000e+00,\n",
       "         0.0000e+00, 0.0000e+00, 0.0000e+00, 2.3501e-01, 3.0998e-01, 3.5949e-01,\n",
       "         3.9426e-01, 3.4005e-01, 2.0535e-01, 3.2950e-01, 2.9996e-01, 1.9348e-01,\n",
       "         1.9617e-01, 2.1718e-01, 2.1641e-01, 2.3843e-01, 2.6243e-01, 2.4208e-01,\n",
       "         1.9847e-01, 2.4269e-01, 3.3089e-01, 3.7320e-01, 2.1387e-01, 3.6588e-01,\n",
       "         3.8799e-01, 3.7303e-01, 1.8712e-01, 1.9335e-01, 4.2678e-02, 1.7367e-02,\n",
       "         0.0000e+00, 0.0000e+00, 0.0000e+00, 1.9122e-01, 1.9968e-01, 1.4912e-01,\n",
       "         1.4662e-01, 1.1945e-01, 9.6142e-02, 2.4359e-01, 1.7421e-01, 2.9191e-02,\n",
       "         1.2473e-02, 4.2966e-02, 8.0288e-02, 1.5042e-01, 0.0000e+00, 0.0000e+00,\n",
       "         1.5229e-02, 0.0000e+00, 0.0000e+00, 1.0235e-01, 8.8374e-02, 1.9391e-02,\n",
       "         0.0000e+00, 0.0000e+00, 0.0000e+00, 0.0000e+00, 1.0280e-01, 8.9766e-03,\n",
       "         0.0000e+00, 0.0000e+00, 7.1728e-02, 2.7114e-02, 8.1991e-02, 7.3884e-03,\n",
       "         4.2106e-03, 3.3762e-02, 1.4738e-02, 2.7604e-02, 5.1236e-02, 0.0000e+00,\n",
       "         4.3017e-02, 6.7563e-03, 0.0000e+00, 0.0000e+00, 0.0000e+00, 6.9250e-02,\n",
       "         1.6896e-01, 1.8644e-01, 2.2375e-01, 3.3245e-01, 4.7754e-01, 3.1925e-01,\n",
       "         4.7269e-01, 5.3064e-01, 5.6838e-01, 4.7999e-01, 1.6804e-01, 3.9968e-01,\n",
       "         3.8589e-01, 2.1945e-01, 8.4948e-02, 8.9139e-02, 1.6835e-01, 3.5265e-01,\n",
       "         3.3543e-01, 2.1868e-01, 1.7122e-01, 4.2252e-01, 5.9108e-01, 5.4418e-01,\n",
       "         3.2669e-01, 2.9279e-02, 7.3614e-03, 0.0000e+00, 0.0000e+00, 6.1444e-02,\n",
       "         4.6038e-02, 0.0000e+00, 0.0000e+00, 6.5574e-02, 0.0000e+00, 0.0000e+00,\n",
       "         0.0000e+00, 5.1982e-04, 2.0389e-02, 2.9778e-02, 0.0000e+00, 1.8073e-02,\n",
       "         0.0000e+00, 0.0000e+00, 9.3421e-02, 1.1643e-02, 0.0000e+00, 0.0000e+00,\n",
       "         0.0000e+00, 1.4769e-02, 0.0000e+00, 0.0000e+00, 0.0000e+00, 0.0000e+00,\n",
       "         0.0000e+00, 0.0000e+00, 0.0000e+00, 0.0000e+00, 0.0000e+00, 0.0000e+00,\n",
       "         0.0000e+00, 0.0000e+00, 0.0000e+00, 0.0000e+00, 0.0000e+00, 0.0000e+00,\n",
       "         0.0000e+00, 0.0000e+00, 0.0000e+00, 0.0000e+00, 0.0000e+00, 0.0000e+00,\n",
       "         0.0000e+00, 0.0000e+00, 0.0000e+00, 1.3549e-01, 1.9503e-01, 3.6268e-01,\n",
       "         4.1749e-01, 3.6993e-01, 2.3399e-01, 3.6045e-01, 3.8374e-01, 2.1596e-01,\n",
       "         7.5145e-02, 1.0801e-01, 7.6058e-02, 1.8735e-01, 1.8305e-01, 1.7322e-01,\n",
       "         1.0807e-01, 1.0627e-01, 1.2000e-01, 3.1945e-01, 2.5556e-01, 2.6654e-01,\n",
       "         4.2263e-01, 4.3036e-01, 3.4170e-01, 9.7694e-02, 5.9833e-02, 1.9393e-01,\n",
       "         1.9097e-01, 1.8723e-01, 7.6714e-02, 0.0000e+00, 0.0000e+00, 0.0000e+00,\n",
       "         0.0000e+00, 2.6281e-03, 0.0000e+00, 0.0000e+00, 4.1982e-02, 1.3730e-01,\n",
       "         0.0000e+00, 0.0000e+00, 1.6426e-01, 1.4193e-01, 2.1933e-01, 0.0000e+00,\n",
       "         1.9475e-01, 2.1164e-01, 1.7840e-01, 0.0000e+00, 3.8074e-02, 0.0000e+00,\n",
       "         0.0000e+00, 0.0000e+00, 0.0000e+00, 0.0000e+00, 0.0000e+00, 0.0000e+00,\n",
       "         0.0000e+00, 0.0000e+00, 0.0000e+00, 0.0000e+00, 0.0000e+00, 0.0000e+00,\n",
       "         0.0000e+00, 6.9346e-02, 0.0000e+00, 0.0000e+00, 0.0000e+00, 0.0000e+00,\n",
       "         1.3243e-01, 0.0000e+00, 0.0000e+00, 0.0000e+00, 0.0000e+00, 0.0000e+00,\n",
       "         8.6532e-02, 2.8575e-01, 3.6103e-01, 3.5634e-01, 3.0939e-01, 3.4773e-02,\n",
       "         2.1924e-01, 6.5230e-02, 3.9397e-03, 0.0000e+00, 5.7085e-02, 3.0204e-02,\n",
       "         0.0000e+00, 5.7415e-02, 1.0148e-01, 1.9548e-02, 1.5459e-01, 3.1141e-01,\n",
       "         2.5002e-01, 6.6392e-02, 2.7089e-01, 3.5923e-01, 3.7203e-01, 1.5538e-01,\n",
       "         0.0000e+00, 3.0347e-01, 6.1300e-01, 7.2830e-01, 7.9106e-01, 6.2227e-01,\n",
       "         3.5152e-01, 7.5033e-01, 6.7268e-01, 5.7956e-01, 2.9580e-01, 2.5911e-01,\n",
       "         3.9240e-01, 4.9006e-01, 5.4821e-01, 3.5936e-01, 2.4138e-01, 3.3122e-01,\n",
       "         6.9311e-01, 8.6024e-01, 5.4005e-01, 5.6864e-01, 8.6139e-01, 8.7042e-01,\n",
       "         7.6327e-01, 2.1889e-01, 0.0000e+00, 1.1439e-02, 0.0000e+00, 0.0000e+00,\n",
       "         0.0000e+00, 0.0000e+00, 0.0000e+00, 0.0000e+00, 0.0000e+00, 0.0000e+00,\n",
       "         0.0000e+00, 0.0000e+00, 0.0000e+00, 1.3314e-02, 0.0000e+00, 0.0000e+00,\n",
       "         0.0000e+00, 7.4437e-02, 4.9175e-02, 0.0000e+00, 0.0000e+00, 5.4134e-02,\n",
       "         3.4083e-02, 0.0000e+00, 0.0000e+00, 0.0000e+00, 0.0000e+00, 0.0000e+00,\n",
       "         0.0000e+00, 0.0000e+00, 4.7858e-02, 0.0000e+00, 0.0000e+00, 0.0000e+00,\n",
       "         0.0000e+00, 9.8631e-03, 5.7881e-02, 0.0000e+00, 0.0000e+00, 0.0000e+00,\n",
       "         0.0000e+00, 1.5318e-02, 0.0000e+00, 0.0000e+00, 0.0000e+00, 0.0000e+00,\n",
       "         0.0000e+00, 0.0000e+00, 0.0000e+00, 0.0000e+00]],\n",
       "       grad_fn=<ViewBackward>)"
      ]
     },
     "execution_count": 307,
     "metadata": {},
     "output_type": "execute_result"
    }
   ],
   "source": [
    "x.view(-1, 16*5*5)"
   ]
  },
  {
   "cell_type": "code",
   "execution_count": 308,
   "metadata": {},
   "outputs": [],
   "source": [
    "# class ConvModle (nn.Module):\n",
    "    \n",
    "#     def __init__(self):\n",
    "#         super().__init__()\n",
    "#         self.conv1 = nn.Conv2d(1, 6, 3, 1)\n",
    "#         self.conv2 = nn.Conv2d(6, 16, 3, 1)\n",
    "#         self.fc1 = nn.Linear(5*5*16, 120)\n",
    "#         self.fc2 = nn.Linear(120, 84)\n",
    "#         self.fc3 = nn.Linear(84, 10)\n",
    "        \n",
    "        \n",
    "#     def forward(self, X):\n",
    "#         X = F.relu(self.conv1(X))\n",
    "#         X= F.max_pool2d(X, 2, 2)\n",
    "#         X = F.relu(self.conv2(X))\n",
    "#         X= F.max_pool2d(X, 2, 2)\n",
    "#         X = X.view(-1, 5*5*16)\n",
    "#         X = F.relu(self.fc1(X))\n",
    "#         X = F.relu(self.fc2(X))\n",
    "#         X = self.fc3(X)\n",
    "#         return F.log_softmax(X, dim=1)\n",
    "        \n",
    "        "
   ]
  },
  {
   "cell_type": "code",
   "execution_count": 22,
   "metadata": {},
   "outputs": [],
   "source": [
    "class ConvolutionalNetwork(nn.Module):\n",
    "    def __init__(self):\n",
    "        super().__init__()\n",
    "        self.conv1 = nn.Conv2d(1, 6, 3, 1)\n",
    "        self.conv2 = nn.Conv2d(6, 20, 3, 1)\n",
    "        self.fc1 = nn.Linear(5*5*20, 120)\n",
    "        self.fc2 = nn.Linear(120, 84)\n",
    "        self.fc3 = nn.Linear(84,10)\n",
    "\n",
    "    def forward(self, X):\n",
    "        X = F.relu(self.conv1(X))\n",
    "        X = F.max_pool2d(X, 2, 2)\n",
    "        X = F.relu(self.conv2(X))\n",
    "        X = F.max_pool2d(X, 2, 2)\n",
    "        X = X.view(-1, 5*5*20)\n",
    "        X = F.relu(self.fc1(X))\n",
    "        X = F.relu(self.fc2(X))\n",
    "        X = self.fc3(X)\n",
    "        return F.log_softmax(X, dim=1)"
   ]
  },
  {
   "cell_type": "code",
   "execution_count": 23,
   "metadata": {},
   "outputs": [
    {
     "data": {
      "text/plain": [
       "ConvolutionalNetwork(\n",
       "  (conv1): Conv2d(1, 6, kernel_size=(3, 3), stride=(1, 1))\n",
       "  (conv2): Conv2d(6, 20, kernel_size=(3, 3), stride=(1, 1))\n",
       "  (fc1): Linear(in_features=500, out_features=120, bias=True)\n",
       "  (fc2): Linear(in_features=120, out_features=84, bias=True)\n",
       "  (fc3): Linear(in_features=84, out_features=10, bias=True)\n",
       ")"
      ]
     },
     "execution_count": 23,
     "metadata": {},
     "output_type": "execute_result"
    }
   ],
   "source": [
    "torch.manual_seed(42)\n",
    "model = ConvolutionalNetwork()\n",
    "model"
   ]
  },
  {
   "cell_type": "code",
   "execution_count": 24,
   "metadata": {},
   "outputs": [
    {
     "data": {
      "text/plain": [
       "72294"
      ]
     },
     "execution_count": 24,
     "metadata": {},
     "output_type": "execute_result"
    }
   ],
   "source": [
    "sum = 0\n",
    "for param in model.parameters():\n",
    "    sum+=param.numel()\n",
    "sum"
   ]
  },
  {
   "cell_type": "code",
   "execution_count": 25,
   "metadata": {},
   "outputs": [],
   "source": [
    "criterion = nn.CrossEntropyLoss()\n",
    "optimizer = torch.optim.Adam(model.parameters(), lr=0.001)"
   ]
  },
  {
   "cell_type": "code",
   "execution_count": 313,
   "metadata": {},
   "outputs": [],
   "source": [
    "# import time\n",
    "# startTime = time.time()\n",
    "\n",
    "# # trackers\n",
    "# epochs = 5\n",
    "# trainLosses = []\n",
    "# testLosses = []\n",
    "# trainCorrect = []\n",
    "# testCorrect = []\n",
    "\n",
    "# # for loop\n",
    "# for i in range(epochs):\n",
    "#     trnCorr = 0\n",
    "#     tstCorr = 0\n",
    "\n",
    "#     for batch, (X_train, y_train) in enumerate(train_loader):\n",
    "#         y_pred = model(X_train)\n",
    "#         loss = criterion(y_pred, y_train)\n",
    "\n",
    "#         perdicted = torch.max(y_pred.data, 1)[1]\n",
    "#         batchCorr = (perdicted == y_train).sum()\n",
    "#         trnCorr += batchCorr\n",
    "\n",
    "#         optimizer.zero_grad()\n",
    "#         loss.backward()\n",
    "#         optimizer.step()\n",
    "\n",
    "#         if batch % 600 == 0:\n",
    "#             print(f'epoch: {i}, batch: {batch}, Loss: {loss.item()}')\n",
    "\n",
    "#     trainLosses.append(loss)\n",
    "#     trainCorrect.append(trnCorr)\n",
    "\n",
    "#     # test\n",
    "\n",
    "#     with torch.no_grad():\n",
    "#         for b, (X_test, y_test) in enumerate(test_loader):\n",
    "\n",
    "#             y_val = model(X_test)\n",
    "#             perdicted = torch.max(y_val, 1)[1]\n",
    "#             tstCorr += (perdicted == y_test).sum()\n",
    "#     loss = criterion(y_val, y_test)\n",
    "#     testCorrect.append(tstCorr)\n",
    "#     testLosses.append(loss)\n",
    "\n",
    "\n",
    "# totalTime = time.time() - startTime\n",
    "# print(f'training took {totalTime/60} min')\n"
   ]
  },
  {
   "cell_type": "code",
   "execution_count": 26,
   "metadata": {},
   "outputs": [
    {
     "name": "stdout",
     "output_type": "stream",
     "text": [
      "epoch:  0  batch:  600 [  6000/60000]  loss: 0.43921551  accuracy:  77.950%\n",
      "epoch:  0  batch: 1200 [ 12000/60000]  loss: 0.32211992  accuracy:  85.558%\n",
      "epoch:  0  batch: 1800 [ 18000/60000]  loss: 0.02131993  accuracy:  88.939%\n",
      "epoch:  0  batch: 2400 [ 24000/60000]  loss: 0.53924263  accuracy:  90.692%\n",
      "epoch:  0  batch: 3000 [ 30000/60000]  loss: 0.02812634  accuracy:  91.737%\n",
      "epoch:  0  batch: 3600 [ 36000/60000]  loss: 0.73471224  accuracy:  92.603%\n",
      "epoch:  0  batch: 4200 [ 42000/60000]  loss: 0.00129716  accuracy:  93.212%\n",
      "epoch:  0  batch: 4800 [ 48000/60000]  loss: 0.07794611  accuracy:  93.746%\n",
      "epoch:  0  batch: 5400 [ 54000/60000]  loss: 0.00229937  accuracy:  94.143%\n",
      "epoch:  0  batch: 6000 [ 60000/60000]  loss: 0.00134945  accuracy:  94.468%\n",
      "epoch:  1  batch:  600 [  6000/60000]  loss: 0.00994444  accuracy:  97.983%\n",
      "epoch:  1  batch: 1200 [ 12000/60000]  loss: 0.00580146  accuracy:  97.867%\n",
      "epoch:  1  batch: 1800 [ 18000/60000]  loss: 0.01963875  accuracy:  97.956%\n",
      "epoch:  1  batch: 2400 [ 24000/60000]  loss: 0.20639805  accuracy:  97.842%\n",
      "epoch:  1  batch: 3000 [ 30000/60000]  loss: 0.00159134  accuracy:  97.900%\n",
      "epoch:  1  batch: 3600 [ 36000/60000]  loss: 0.00269842  accuracy:  97.914%\n",
      "epoch:  1  batch: 4200 [ 42000/60000]  loss: 0.00017871  accuracy:  97.943%\n",
      "epoch:  1  batch: 4800 [ 48000/60000]  loss: 0.00299871  accuracy:  98.010%\n",
      "epoch:  1  batch: 5400 [ 54000/60000]  loss: 0.00158287  accuracy:  98.046%\n",
      "epoch:  1  batch: 6000 [ 60000/60000]  loss: 0.00132463  accuracy:  98.040%\n",
      "epoch:  2  batch:  600 [  6000/60000]  loss: 0.00067229  accuracy:  98.683%\n",
      "epoch:  2  batch: 1200 [ 12000/60000]  loss: 0.00119709  accuracy:  98.392%\n",
      "epoch:  2  batch: 1800 [ 18000/60000]  loss: 0.00050497  accuracy:  98.406%\n",
      "epoch:  2  batch: 2400 [ 24000/60000]  loss: 0.00318856  accuracy:  98.412%\n",
      "epoch:  2  batch: 3000 [ 30000/60000]  loss: 0.00012147  accuracy:  98.443%\n",
      "epoch:  2  batch: 3600 [ 36000/60000]  loss: 0.00586523  accuracy:  98.442%\n",
      "epoch:  2  batch: 4200 [ 42000/60000]  loss: 0.00832018  accuracy:  98.462%\n",
      "epoch:  2  batch: 4800 [ 48000/60000]  loss: 0.00038803  accuracy:  98.467%\n",
      "epoch:  2  batch: 5400 [ 54000/60000]  loss: 0.00000510  accuracy:  98.506%\n",
      "epoch:  2  batch: 6000 [ 60000/60000]  loss: 0.00027668  accuracy:  98.522%\n",
      "epoch:  3  batch:  600 [  6000/60000]  loss: 0.00460299  accuracy:  99.017%\n",
      "epoch:  3  batch: 1200 [ 12000/60000]  loss: 0.15735924  accuracy:  98.833%\n",
      "epoch:  3  batch: 1800 [ 18000/60000]  loss: 0.00216694  accuracy:  98.922%\n",
      "epoch:  3  batch: 2400 [ 24000/60000]  loss: 0.01332890  accuracy:  98.888%\n",
      "epoch:  3  batch: 3000 [ 30000/60000]  loss: 0.00183963  accuracy:  98.850%\n",
      "epoch:  3  batch: 3600 [ 36000/60000]  loss: 0.00048210  accuracy:  98.839%\n",
      "epoch:  3  batch: 4200 [ 42000/60000]  loss: 0.01458930  accuracy:  98.855%\n",
      "epoch:  3  batch: 4800 [ 48000/60000]  loss: 0.07490469  accuracy:  98.838%\n",
      "epoch:  3  batch: 5400 [ 54000/60000]  loss: 0.03089748  accuracy:  98.837%\n",
      "epoch:  3  batch: 6000 [ 60000/60000]  loss: 0.01037589  accuracy:  98.817%\n",
      "epoch:  4  batch:  600 [  6000/60000]  loss: 0.00032908  accuracy:  99.383%\n",
      "epoch:  4  batch: 1200 [ 12000/60000]  loss: 0.00019036  accuracy:  99.208%\n",
      "epoch:  4  batch: 1800 [ 18000/60000]  loss: 0.00000874  accuracy:  99.144%\n",
      "epoch:  4  batch: 2400 [ 24000/60000]  loss: 0.02274239  accuracy:  99.100%\n",
      "epoch:  4  batch: 3000 [ 30000/60000]  loss: 0.00029360  accuracy:  99.060%\n",
      "epoch:  4  batch: 3600 [ 36000/60000]  loss: 0.00016217  accuracy:  99.044%\n",
      "epoch:  4  batch: 4200 [ 42000/60000]  loss: 0.11581917  accuracy:  99.060%\n",
      "epoch:  4  batch: 4800 [ 48000/60000]  loss: 0.00006256  accuracy:  99.025%\n",
      "epoch:  4  batch: 5400 [ 54000/60000]  loss: 0.00369632  accuracy:  99.004%\n",
      "epoch:  4  batch: 6000 [ 60000/60000]  loss: 0.00003252  accuracy:  99.015%\n",
      "\n",
      "Duration: 172 seconds\n"
     ]
    }
   ],
   "source": [
    "import time\n",
    "start_time = time.time()\n",
    "\n",
    "epochs = 5\n",
    "train_losses = []\n",
    "test_losses = []\n",
    "train_correct = []\n",
    "test_correct = []\n",
    "\n",
    "for i in range(epochs):\n",
    "    trn_corr = 0\n",
    "    tst_corr = 0\n",
    "    \n",
    "    # Run the training batches\n",
    "    for b, (X_train, y_train) in enumerate(train_loader):\n",
    "        b+=1\n",
    "        \n",
    "        # Apply the model\n",
    "        y_pred = model(X_train)  # we don't flatten X-train here\n",
    "        loss = criterion(y_pred, y_train)\n",
    " \n",
    "        # Tally the number of correct predictions\n",
    "        predicted = torch.max(y_pred.data, 1)[1]\n",
    "        batch_corr = (predicted == y_train).sum()\n",
    "        trn_corr += batch_corr\n",
    "        \n",
    "        # Update parameters\n",
    "        optimizer.zero_grad()\n",
    "        loss.backward()\n",
    "        optimizer.step()\n",
    "        \n",
    "        # Print interim results\n",
    "        if b%600 == 0:\n",
    "            print(f'epoch: {i:2}  batch: {b:4} [{10*b:6}/60000]  loss: {loss.item():10.8f}  \\\n",
    "accuracy: {trn_corr.item()*100/(10*b):7.3f}%')\n",
    "        \n",
    "    train_losses.append(loss)\n",
    "    train_correct.append(trn_corr)\n",
    "        \n",
    "    # Run the testing batches\n",
    "    with torch.no_grad():\n",
    "        for b, (X_test, y_test) in enumerate(test_loader):\n",
    "\n",
    "            # Apply the model\n",
    "            y_val = model(X_test)\n",
    "\n",
    "            # Tally the number of correct predictions\n",
    "            predicted = torch.max(y_val.data, 1)[1] \n",
    "            tst_corr += (predicted == y_test).sum()\n",
    "            \n",
    "    loss = criterion(y_val, y_test)\n",
    "    test_losses.append(loss)\n",
    "    test_correct.append(tst_corr)\n",
    "        \n",
    "print(f'\\nDuration: {time.time() - start_time:.0f} seconds') # print the time elapsed            "
   ]
  },
  {
   "cell_type": "code",
   "execution_count": 27,
   "metadata": {},
   "outputs": [
    {
     "data": {
      "image/png": "[encoded data removed]",
      "text/plain": [
       "<Figure size 640x480 with 1 Axes>"
      ]
     },
     "metadata": {},
     "output_type": "display_data"
    }
   ],
   "source": [
    "plt.plot(train_losses, label='training loss')\n",
    "plt.plot(test_losses, label='validation loss')\n",
    "plt.title('Loss at the end of each epoch')\n",
    "plt.legend();"
   ]
  },
  {
   "cell_type": "code",
   "execution_count": 28,
   "metadata": {},
   "outputs": [
    {
     "data": {
      "text/plain": [
       "[tensor(0.0152),\n",
       " tensor(0.0007),\n",
       " tensor(0.0096),\n",
       " tensor(0.0008),\n",
       " tensor(0.0007)]"
      ]
     },
     "execution_count": 28,
     "metadata": {},
     "output_type": "execute_result"
    }
   ],
   "source": [
    "test_losses"
   ]
  },
  {
   "cell_type": "code",
   "execution_count": 29,
   "metadata": {},
   "outputs": [
    {
     "data": {
      "image/png": "[encoded data removed]",
      "text/plain": [
       "<Figure size 640x480 with 1 Axes>"
      ]
     },
     "metadata": {},
     "output_type": "display_data"
    }
   ],
   "source": [
    "plt.plot([t/600 for t in train_correct], label='training accuracy')\n",
    "plt.plot([t/100 for t in test_correct], label='validation accuracy')\n",
    "plt.title('Accuracy at the end of each epoch')\n",
    "plt.legend();"
   ]
  },
  {
   "cell_type": "code",
   "execution_count": 30,
   "metadata": {},
   "outputs": [],
   "source": [
    "test_load_all = DataLoader(test_data, batch_size=10000, shuffle=False)"
   ]
  },
  {
   "cell_type": "code",
   "execution_count": 31,
   "metadata": {},
   "outputs": [
    {
     "data": {
      "text/plain": [
       "<torch.utils.data.dataloader.DataLoader at 0x1dd940c8dd8>"
      ]
     },
     "execution_count": 31,
     "metadata": {},
     "output_type": "execute_result"
    }
   ],
   "source": [
    "test_load_all"
   ]
  },
  {
   "cell_type": "code",
   "execution_count": 32,
   "metadata": {},
   "outputs": [
    {
     "name": "stdout",
     "output_type": "stream",
     "text": [
      "Test accuracy: 9876/10000 =  98.760%\n"
     ]
    }
   ],
   "source": [
    "with torch.no_grad():\n",
    "    correct = 0\n",
    "    for X_test, y_test in test_load_all:\n",
    "        y_val = model(X_test)  # we don't flatten the data this time\n",
    "        predicted = torch.max(y_val,1)[1]\n",
    "        correct += (predicted == y_test).sum()\n",
    "print(f'Test accuracy: {correct.item()}/{len(test_data)} = {correct.item()*100/(len(test_data)):7.3f}%')"
   ]
  },
  {
   "cell_type": "code",
   "execution_count": 33,
   "metadata": {},
   "outputs": [
    {
     "data": {
      "text/plain": [
       "torch.Size([10000])"
      ]
     },
     "execution_count": 33,
     "metadata": {},
     "output_type": "execute_result"
    }
   ],
   "source": [
    "predicted.shape"
   ]
  },
  {
   "cell_type": "code",
   "execution_count": 34,
   "metadata": {},
   "outputs": [
    {
     "data": {
      "text/plain": [
       "124"
      ]
     },
     "execution_count": 34,
     "metadata": {},
     "output_type": "execute_result"
    }
   ],
   "source": [
    "misses = np.array([])\n",
    "\n",
    "for i in range(len(predicted.view(-1))):\n",
    "    if predicted[i] != y_test[i]:\n",
    "        misses = np.append(misses,i).astype('int64')\n",
    "        \n",
    "# Display the number of misses\n",
    "len(misses)"
   ]
  },
  {
   "cell_type": "code",
   "execution_count": 37,
   "metadata": {},
   "outputs": [
    {
     "data": {
      "text/plain": [
       "<matplotlib.image.AxesImage at 0x1dd942027b8>"
      ]
     },
     "execution_count": 37,
     "metadata": {},
     "output_type": "execute_result"
    },
    {
     "data": {
      "image/png": "[encoded data removed]",
      "text/plain": [
       "<Figure size 640x480 with 1 Axes>"
      ]
     },
     "metadata": {},
     "output_type": "display_data"
    }
   ],
   "source": [
    "plt.imshow(test_data[2019][0].reshape(28,28))"
   ]
  },
  {
   "cell_type": "code",
   "execution_count": 38,
   "metadata": {},
   "outputs": [],
   "source": [
    "model.eval()\n",
    "with torch.no_grad():\n",
    "    \n",
    "    newPredicition = model(test_data[2019][0].view(1, 1, 28, 28))"
   ]
  },
  {
   "cell_type": "code",
   "execution_count": 39,
   "metadata": {},
   "outputs": [
    {
     "data": {
      "text/plain": [
       "tensor([[-2.1194e+01, -2.3048e+01, -1.6221e+01, -1.5465e+01, -1.2296e+01,\n",
       "         -1.6390e+01, -2.8606e+01, -1.1696e+01, -1.5271e+01, -1.3351e-05]])"
      ]
     },
     "execution_count": 39,
     "metadata": {},
     "output_type": "execute_result"
    }
   ],
   "source": [
    "newPredicition"
   ]
  },
  {
   "cell_type": "code",
   "execution_count": 40,
   "metadata": {},
   "outputs": [
    {
     "data": {
      "text/plain": [
       "tensor(9)"
      ]
     },
     "execution_count": 40,
     "metadata": {},
     "output_type": "execute_result"
    }
   ],
   "source": [
    "newPredicition.argmax()"
   ]
  },
  {
   "cell_type": "code",
   "execution_count": null,
   "metadata": {},
   "outputs": [],
   "source": []
  }
 ],
 "metadata": {
  "kernelspec": {
   "display_name": "pytorchenv",
   "language": "python",
   "name": "python3"
  },
  "language_info": {
   "codemirror_mode": {
    "name": "ipython",
    "version": 3
   },
   "file_extension": ".py",
   "mimetype": "text/x-python",
   "name": "python",
   "nbconvert_exporter": "python",
   "pygments_lexer": "ipython3",
   "version": "3.7.3"
  },
  "orig_nbformat": 4
 },
 "nbformat": 4,
 "nbformat_minor": 2
}
